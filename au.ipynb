{
 "cells": [
  {
   "cell_type": "code",
   "execution_count": 2,
   "metadata": {},
   "outputs": [],
   "source": [
    "#Import library\n",
    "import os, skimage\n",
    "from PIL import Image\n",
    "import numpy as np\n",
    "from skimage import io\n",
    "import cv2\n",
    "\n",
    "#Parameter\n",
    "angle90=90\n",
    "angle180=180\n",
    "angle270=270\n",
    "\n",
    "#Set Path  remind / at the end\n",
    "path='./images/val/'\n",
    "# Image: This is adress of image in  this folder\n",
    "images = os.listdir(path)\n",
    "\n",
    "for img in images:\n",
    "    img_path=path+img\n",
    "\n",
    "    #rotate 90\n",
    "    image = Image.open(img_path)\n",
    "    image = image.rotate(angle90)    \n",
    "    name_file=img_path.split(\".jpg\")[0]+ \"_rotate%i_\" % (angle90)+\".jpg\"\n",
    "    image.save(name_file)\n",
    "\n",
    "    #rotate 180\n",
    "    image = Image.open(img_path)\n",
    "    image = image.rotate(angle180)    \n",
    "    name_file=img_path.split(\".jpg\")[0]+ \"_rotate%i_\" % (angle180)+\".jpg\"\n",
    "    image.save(name_file)\n",
    "    \n",
    "    #rotate 270\n",
    "    image = Image.open(img_path)\n",
    "    image = image.rotate(angle270)    \n",
    "    name_file=img_path.split(\".jpg\")[0]+ \"_rotate%i_\" % (angle270)+\".jpg\"\n",
    "    image.save(name_file)\n",
    "\n",
    "\n",
    "#Add Gause Noise\n",
    "for img in images:\n",
    "    img_path=path+img\n",
    "    \n",
    "    image = io.imread(img_path)    \n",
    "    image = skimage.util.random_noise(image, mode='gaussian', seed=45, clip=True)\n",
    "    noise_img = np.array(255*image, dtype = 'uint8')\n",
    "    pil_image=Image.fromarray(np.array(noise_img))\n",
    "    pil_image.save(img_path.split(\".jpg\")[0]+\"_Gause_noise.jpg\")    "
   ]
  }
 ],
 "metadata": {
  "kernelspec": {
   "display_name": "Python 3.8.12 ('project')",
   "language": "python",
   "name": "python3"
  },
  "language_info": {
   "codemirror_mode": {
    "name": "ipython",
    "version": 3
   },
   "file_extension": ".py",
   "mimetype": "text/x-python",
   "name": "python",
   "nbconvert_exporter": "python",
   "pygments_lexer": "ipython3",
   "version": "3.8.12 (default, Oct 12 2021, 03:01:40) [MSC v.1916 64 bit (AMD64)]"
  },
  "orig_nbformat": 4,
  "vscode": {
   "interpreter": {
    "hash": "1c105f29f835161cf87d35c1167b0d096ccd183d81e5c28ed6ad0acd2a4dc45e"
   }
  }
 },
 "nbformat": 4,
 "nbformat_minor": 2
}
